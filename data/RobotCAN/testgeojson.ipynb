{
 "cells": [
  {
   "cell_type": "code",
   "execution_count": 1,
   "metadata": {},
   "outputs": [],
   "source": [
    "import json\n",
    "import time\n",
    "import csv\n",
    "import geopandas as gpd\n",
    "from geojson import Feature, FeatureCollection, Point, dump\n",
    "\n",
    "def add_features(geojson_file, new_features):\n",
    "    # features = gpd.read_file(geojson_file)\n",
    "    # print(features)\n",
    "    # #features.append(new_features)\n",
    "    # collection = FeatureCollection(features)\n",
    "    # with open(geojson_file, 'w') as f:\n",
    "    #     dump(collection, f, indent = 4)\n",
    "\n",
    "    with open(geojson_file, 'r+') as file:\n",
    "        # Load existing data\n",
    "        data = json.load(file)\n",
    "        # Append new features to the 'features' field\n",
    "        data['features'].extend(new_features)\n",
    "        # Move the pointer to the beginning of the file\n",
    "        file.seek(0)\n",
    "        # Write the updated data back to the file\n",
    "        json.dump(data, file, indent=4)\n",
    "        # Truncate the file to the current position to remove leftover part\n",
    "        file.truncate()"
   ]
  },
  {
   "cell_type": "code",
   "execution_count": 7,
   "metadata": {},
   "outputs": [],
   "source": [
    "fitxlog = time.strftime(\"logs/logAuto_%d-%m_%H-%M.log\")\n",
    "initemps = time.time()\n",
    "puntActual = Point((0,0))\n",
    "features = []\n",
    "features.append(\n",
    "    Feature(\n",
    "        geometry = puntActual,\n",
    "        properties = {\n",
    "            'ord': 1,\n",
    "            'tipus': 'G'\n",
    "        }\n",
    "    )\n",
    ")\n",
    "collection = FeatureCollection(features)\n",
    "fileout = fitxlog.replace('.log','_log.geojson')\n",
    "with open(fileout, 'w') as f:\n",
    "    dump(collection, f, indent = 4)\n"
   ]
  },
  {
   "cell_type": "code",
   "execution_count": 27,
   "metadata": {},
   "outputs": [],
   "source": [
    "new_features = [\n",
    "    {\n",
    "        \"type\": \"Feature\",\n",
    "        \"geometry\": {\n",
    "            \"type\": \"Point\",\n",
    "            \"coordinates\": [125.6, 10.1]\n",
    "        },\n",
    "        \"properties\": {\n",
    "            \"name\": \"New Feature\"\n",
    "        }\n",
    "    },\n",
    "    # Add more features as needed\n",
    "]\n",
    "\n",
    "# Add new features to the GeoJSON file\n",
    "add_features(fileout, new_features)"
   ]
  },
  {
   "cell_type": "code",
   "execution_count": 9,
   "metadata": {},
   "outputs": [],
   "source": [
    "features = []\n",
    "numord = 1\n",
    "angleDesti = 0.78\n",
    "angleActual = 0.765\n",
    "dif = (angleDesti - angleActual)\n",
    "pid = 0\n",
    "gir = 0.1\n",
    "for i in range(10):\n",
    "    numord += 1\n",
    "    puntActual = Point((i,i))\n",
    "    features.append(\n",
    "        Feature(\n",
    "            geometry = puntActual,\n",
    "            properties = {\n",
    "                'ord': numord,\n",
    "                'temps': round(time.time()-initemps,3),\n",
    "                'angleDesti': angleDesti,\n",
    "                'angleActual': angleActual,\n",
    "                'dif': round(dif,3),\n",
    "                'pid': pid,\n",
    "                'gir': gir\n",
    "            }\n",
    "        )\n",
    "    )\n",
    "#collection = FeatureCollection(features)\n",
    "#fileout = fitxlog.replace('.log','_log.geojson')\n",
    "add_features(fileout, features)\n"
   ]
  }
 ],
 "metadata": {
  "kernelspec": {
   "display_name": "Python 3",
   "language": "python",
   "name": "python3"
  },
  "language_info": {
   "codemirror_mode": {
    "name": "ipython",
    "version": 3
   },
   "file_extension": ".py",
   "mimetype": "text/x-python",
   "name": "python",
   "nbconvert_exporter": "python",
   "pygments_lexer": "ipython3",
   "version": "3.9.13"
  }
 },
 "nbformat": 4,
 "nbformat_minor": 2
}
